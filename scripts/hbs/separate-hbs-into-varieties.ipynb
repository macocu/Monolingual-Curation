{
 "cells": [
  {
   "cell_type": "code",
   "execution_count": 11,
   "metadata": {},
   "outputs": [],
   "source": [
    "import json\n",
    "from prevert import dataset\n",
    "import pandas as pd"
   ]
  },
  {
   "cell_type": "code",
   "execution_count": 12,
   "metadata": {},
   "outputs": [
    {
     "data": {
      "text/html": [
       "<div>\n",
       "<style scoped>\n",
       "    .dataframe tbody tr th:only-of-type {\n",
       "        vertical-align: middle;\n",
       "    }\n",
       "\n",
       "    .dataframe tbody tr th {\n",
       "        vertical-align: top;\n",
       "    }\n",
       "\n",
       "    .dataframe thead th {\n",
       "        text-align: right;\n",
       "    }\n",
       "</style>\n",
       "<table border=\"1\" class=\"dataframe\">\n",
       "  <thead>\n",
       "    <tr style=\"text-align: right;\">\n",
       "      <th></th>\n",
       "      <th>domain</th>\n",
       "      <th>variety</th>\n",
       "    </tr>\n",
       "  </thead>\n",
       "  <tbody>\n",
       "    <tr>\n",
       "      <th>0</th>\n",
       "      <td>nshronika.rs</td>\n",
       "      <td>rs</td>\n",
       "    </tr>\n",
       "    <tr>\n",
       "      <th>1</th>\n",
       "      <td>zena.blic.rs</td>\n",
       "      <td>rs</td>\n",
       "    </tr>\n",
       "    <tr>\n",
       "      <th>2</th>\n",
       "      <td>tuzlanski.ba</td>\n",
       "      <td>ba</td>\n",
       "    </tr>\n",
       "    <tr>\n",
       "      <th>3</th>\n",
       "      <td>tlzp.prva.rs</td>\n",
       "      <td>rs</td>\n",
       "    </tr>\n",
       "    <tr>\n",
       "      <th>4</th>\n",
       "      <td>mduls.gov.rs</td>\n",
       "      <td>rs</td>\n",
       "    </tr>\n",
       "  </tbody>\n",
       "</table>\n",
       "</div>"
      ],
      "text/plain": [
       "         domain variety\n",
       "0  nshronika.rs      rs\n",
       "1  zena.blic.rs      rs\n",
       "2  tuzlanski.ba      ba\n",
       "3  tlzp.prva.rs      rs\n",
       "4  mduls.gov.rs      rs"
      ]
     },
     "execution_count": 12,
     "metadata": {},
     "output_type": "execute_result"
    }
   ],
   "source": [
    "# Get the list of hbs varieties\n",
    "hbs = pd.read_csv(\"/home/nikolal/varieties/domain.txt\", sep=\"\\t\", names=[\"domain\", \"variety\"])\n",
    "\n",
    "hbs.head()"
   ]
  },
  {
   "cell_type": "code",
   "execution_count": 13,
   "metadata": {},
   "outputs": [
    {
     "data": {
      "text/plain": [
       "rs    49966\n",
       "hr    46210\n",
       "ba     9521\n",
       "me     3584\n",
       "Name: variety, dtype: int64"
      ]
     },
     "execution_count": 13,
     "metadata": {},
     "output_type": "execute_result"
    }
   ],
   "source": [
    "hbs.variety.value_counts()"
   ]
  },
  {
   "cell_type": "code",
   "execution_count": 14,
   "metadata": {},
   "outputs": [
    {
     "name": "stdout",
     "output_type": "stream",
     "text": [
      "49966 46210 9521 3584\n"
     ]
    }
   ],
   "source": [
    "# Create a list of domains for each variety\n",
    "rs_list = list(hbs[hbs[\"variety\"] == \"rs\"].domain.unique())\n",
    "hr_list = list(hbs[hbs[\"variety\"] == \"hr\"].domain.unique())\n",
    "ba_list = list(hbs[hbs[\"variety\"] == \"ba\"].domain.unique())\n",
    "me_list = list(hbs[hbs[\"variety\"] == \"me\"].domain.unique())\n",
    "\n",
    "print(len(rs_list), len(hr_list), len(ba_list), len(me_list))"
   ]
  },
  {
   "cell_type": "code",
   "execution_count": 15,
   "metadata": {},
   "outputs": [
    {
     "name": "stdout",
     "output_type": "stream",
     "text": [
      "7480024 8106239 2749435 586804 33\n"
     ]
    }
   ],
   "source": [
    "# Go through xml file and create a separate prevert file for each variety\n",
    "dset = dataset(\"/data/monolingual/MaCoCu-hbs-2.0.xml\")\n",
    "\n",
    "rs_file = open(\"/data/monolingual/rs-variety.prevert\", \"w\")\n",
    "hr_file = open(\"/data/monolingual/hr-variety.prevert\", \"w\")\n",
    "ba_file = open(\"/data/monolingual/ba-variety.prevert\", \"w\")\n",
    "me_file = open(\"/data/monolingual/me-variety.prevert\", \"w\")\n",
    "discard_file = open(\"/data/monolingual/hbs-left-out-docs.prevert\", \"w\")\n",
    "\n",
    "rs_counter = 0\n",
    "hr_counter = 0\n",
    "ba_counter = 0\n",
    "me_counter = 0\n",
    "discard_counter = 0\n",
    "\n",
    "for doc in dset:\n",
    "    if doc.meta[\"domain\"] in rs_list:\n",
    "        rs_counter += 1\n",
    "        rs_file.write(doc.to_prevert())\n",
    "    elif doc.meta[\"domain\"] in hr_list:\n",
    "        hr_counter += 1\n",
    "        hr_file.write(doc.to_prevert())\n",
    "    elif doc.meta[\"domain\"] in ba_list:\n",
    "        ba_counter += 1\n",
    "        ba_file.write(doc.to_prevert())\n",
    "    elif doc.meta[\"domain\"] in me_list:\n",
    "        me_counter += 1\n",
    "        me_file.write(doc.to_prevert())\n",
    "    else:\n",
    "        discard_counter += 1\n",
    "        discard_file.write(doc.to_prevert())\n",
    "\n",
    "print(rs_counter, hr_counter, ba_counter, me_counter, discard_counter)\n",
    "\n",
    "rs_file.close()\n",
    "hr_file.close()\n",
    "ba_file.close()\n",
    "me_file.close()\n",
    "discard_file.close()"
   ]
  }
 ],
 "metadata": {
  "kernelspec": {
   "display_name": "Python 3",
   "language": "python",
   "name": "python3"
  },
  "language_info": {
   "codemirror_mode": {
    "name": "ipython",
    "version": 3
   },
   "file_extension": ".py",
   "mimetype": "text/x-python",
   "name": "python",
   "nbconvert_exporter": "python",
   "pygments_lexer": "ipython3",
   "version": "3.10.5"
  },
  "orig_nbformat": 4
 },
 "nbformat": 4,
 "nbformat_minor": 2
}
